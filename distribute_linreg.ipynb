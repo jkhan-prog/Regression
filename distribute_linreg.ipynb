{
  "nbformat": 4,
  "nbformat_minor": 0,
  "metadata": {
    "anaconda-cloud": {},
    "kernelspec": {
      "display_name": "ml1-arm64",
      "language": "python",
      "name": "ml1-arm64"
    },
    "language_info": {
      "codemirror_mode": {
        "name": "ipython",
        "version": 3
      },
      "file_extension": ".py",
      "mimetype": "text/x-python",
      "name": "python",
      "nbconvert_exporter": "python",
      "pygments_lexer": "ipython3",
      "version": "3.9.1"
    },
    "nteract": {
      "version": "0.7.1"
    },
    "colab": {
      "name": "linreg.ipynb",
      "provenance": []
    }
  },
  "cells": [
    {
      "cell_type": "markdown",
      "metadata": {
        "id": "F-qjsO3-CyTH"
      },
      "source": [
        "# Linear Regression Multiple Ways"
      ]
    },
    {
      "cell_type": "markdown",
      "metadata": {
        "id": "vhI2fAh1C360"
      },
      "source": [
        "!git init; git pull https://github.com/YOUR_USERNAME/Regression.git"
      ]
    },
    {
      "cell_type": "code",
      "metadata": {
        "id": "tS3uGHTGsOMd",
        "outputId": "8b3b0e9b-2f0c-4cbb-febe-dbdc27ad097f",
        "colab": {
          "base_uri": "https://localhost:8080/"
        }
      },
      "source": [
        "!git init; git pull https://github.com/jkhan-prog/Regression.git"
      ],
      "execution_count": 7,
      "outputs": [
        {
          "output_type": "stream",
          "text": [
            "Initialized empty Git repository in /content/.git/\n",
            "remote: Enumerating objects: 163, done.\u001b[K\n",
            "remote: Counting objects: 100% (163/163), done.\u001b[K\n",
            "remote: Compressing objects: 100% (162/162), done.\u001b[K\n",
            "remote: Total 163 (delta 4), reused 156 (delta 0), pack-reused 0\u001b[K\n",
            "Receiving objects: 100% (163/163), 19.11 MiB | 31.72 MiB/s, done.\n",
            "Resolving deltas: 100% (4/4), done.\n",
            "From https://github.com/jkhan-prog/Regression\n",
            " * branch            HEAD       -> FETCH_HEAD\n"
          ],
          "name": "stdout"
        }
      ]
    },
    {
      "cell_type": "markdown",
      "metadata": {
        "id": "RBBWZsb3CyTO"
      },
      "source": [
        "## Making the data\n",
        "\n",
        "We'll first construct a synthetic data set..using a function from the `scikit-learn` library. Synthetic data is nice in the sense that we can constrain how the noise behaves, and thus isolate effects."
      ]
    },
    {
      "cell_type": "code",
      "metadata": {
        "id": "yDBQLvGDCyTP"
      },
      "source": [
        "%matplotlib inline\n",
        "from sklearn.datasets import make_regression\n",
        "import numpy as np\n",
        "import matplotlib.pyplot as plt"
      ],
      "execution_count": 8,
      "outputs": []
    },
    {
      "cell_type": "code",
      "metadata": {
        "colab": {
          "base_uri": "https://localhost:8080/"
        },
        "id": "52g5scGAY9Z8",
        "outputId": "d3894521-14bd-4375-dccf-f1904f88454f"
      },
      "source": [
        "2+2"
      ],
      "execution_count": 1,
      "outputs": [
        {
          "output_type": "execute_result",
          "data": {
            "text/plain": [
              "4"
            ]
          },
          "metadata": {
            "tags": []
          },
          "execution_count": 1
        }
      ]
    },
    {
      "cell_type": "code",
      "metadata": {
        "id": "F4MA6nXysMg2"
      },
      "source": [
        ""
      ],
      "execution_count": null,
      "outputs": []
    },
    {
      "cell_type": "markdown",
      "metadata": {
        "id": "SoCW2nSyCyTR"
      },
      "source": [
        "This data is generated from the canonical generating process assumed for linear regression: a gaussian distribution centered at the regression line on the y axis."
      ]
    },
    {
      "cell_type": "code",
      "metadata": {
        "id": "MQ4g4sN9CyTR"
      },
      "source": [
        "#code adapted from http://tillbergmann.com/blog/python-gradient-descent.html\n",
        "X, y, coef = make_regression(n_samples = 100, \n",
        "                       n_features=1, \n",
        "                       noise=20,\n",
        "                       random_state=2017,\n",
        "                       bias=0.0,\n",
        "                       coef=True)"
      ],
      "execution_count": 9,
      "outputs": []
    },
    {
      "cell_type": "code",
      "metadata": {
        "id": "FIBsThIgu0tM",
        "outputId": "8c7402f9-22ce-44c0-ff9f-b39131fca184",
        "colab": {
          "base_uri": "https://localhost:8080/"
        }
      },
      "source": [
        "X.shape, y.shape"
      ],
      "execution_count": 10,
      "outputs": [
        {
          "output_type": "execute_result",
          "data": {
            "text/plain": [
              "((100, 1), (100,))"
            ]
          },
          "metadata": {
            "tags": []
          },
          "execution_count": 10
        }
      ]
    },
    {
      "cell_type": "code",
      "metadata": {
        "id": "7oMdRCk7u71e"
      },
      "source": [
        ""
      ],
      "execution_count": 19,
      "outputs": []
    },
    {
      "cell_type": "markdown",
      "metadata": {
        "id": "Q98EPmtRCyTS"
      },
      "source": [
        "Notice that the X is in the canonical array-of-arrays format.\n",
        "**Try and print its shape**"
      ]
    },
    {
      "cell_type": "code",
      "metadata": {
        "id": "iNpyFGTeCyTS"
      },
      "source": [
        "# your code here\n"
      ],
      "execution_count": 20,
      "outputs": []
    },
    {
      "cell_type": "markdown",
      "metadata": {
        "id": "ij_miKEiCyTU"
      },
      "source": [
        "We are fitting a model with an intercept. Lets see what it is."
      ]
    },
    {
      "cell_type": "code",
      "metadata": {
        "colab": {
          "base_uri": "https://localhost:8080/"
        },
        "id": "5STse-DGCyTU",
        "outputId": "7de680f3-2fec-466b-c0a3-8554dc47f82f"
      },
      "source": [
        "coef"
      ],
      "execution_count": 15,
      "outputs": [
        {
          "output_type": "execute_result",
          "data": {
            "text/plain": [
              "array(80.88336208)"
            ]
          },
          "metadata": {
            "tags": []
          },
          "execution_count": 15
        }
      ]
    },
    {
      "cell_type": "markdown",
      "metadata": {
        "id": "nRSyktEDCyTV"
      },
      "source": [
        "We can plot the data."
      ]
    },
    {
      "cell_type": "code",
      "metadata": {
        "colab": {
          "base_uri": "https://localhost:8080/",
          "height": 265
        },
        "id": "f34COrzrCyTV",
        "outputId": "4486b5db-5b2f-40f8-ffcc-f79f0338a398"
      },
      "source": [
        "plt.plot(X,y, 'o');"
      ],
      "execution_count": 21,
      "outputs": [
        {
          "output_type": "display_data",
          "data": {
            "image/png": "[encoded data removed]",
            "text/plain": [
              "<Figure size 432x288 with 1 Axes>"
            ]
          },
          "metadata": {
            "tags": [],
            "needs_background": "light"
          }
        }
      ]
    },
    {
      "cell_type": "markdown",
      "metadata": {
        "id": "BBwzhUNYCyTW"
      },
      "source": [
        "For the purposes of drawing the regression line, lets create a uniform grid of points, and then reshape it into the canonical format"
      ]
    },
    {
      "cell_type": "code",
      "metadata": {
        "id": "jmedjoqJCyTX"
      },
      "source": [
        "xgrid = np.linspace(-2.5,2.5,1000)\n",
        "Xgrid = xgrid.reshape(-1,1)"
      ],
      "execution_count": 22,
      "outputs": []
    },
    {
      "cell_type": "markdown",
      "metadata": {
        "id": "-Qx4TklhCyTY"
      },
      "source": [
        "## Fit using sklearn"
      ]
    },
    {
      "cell_type": "code",
      "metadata": {
        "id": "ecdZyQdpCyTY"
      },
      "source": [
        "from sklearn.linear_model import LinearRegression"
      ],
      "execution_count": 25,
      "outputs": []
    },
    {
      "cell_type": "code",
      "metadata": {
        "colab": {
          "base_uri": "https://localhost:8080/"
        },
        "id": "NN8FEHXqCyTY",
        "outputId": "dc362705-39a4-4136-c510-008610853c20"
      },
      "source": [
        "lr = LinearRegression()\n",
        "lr.fit(X,y) # fit the model with the existing data\n",
        "ypgrid = lr.predict(Xgrid) # now predict it on the grid\n",
        "lr.coef_, lr.intercept_ # get the slope and the intercept"
      ],
      "execution_count": 26,
      "outputs": [
        {
          "output_type": "execute_result",
          "data": {
            "text/plain": [
              "(array([82.90456142]), -3.709228868670302)"
            ]
          },
          "metadata": {
            "tags": []
          },
          "execution_count": 26
        }
      ]
    },
    {
      "cell_type": "markdown",
      "metadata": {
        "id": "ihlAru1ACyTY"
      },
      "source": [
        "Notice that the slope and the intercept are not what we fed into the model, but close. This is because the model fitted depends on the exact way points were generated.."
      ]
    },
    {
      "cell_type": "code",
      "metadata": {
        "colab": {
          "base_uri": "https://localhost:8080/",
          "height": 282
        },
        "id": "xThEkz-FCyTZ",
        "outputId": "6ab03fab-0cd5-4e69-983c-b41b46eb1e63"
      },
      "source": [
        "plt.plot(Xgrid, ypgrid)\n",
        "plt.plot(X, y, '.')"
      ],
      "execution_count": 27,
      "outputs": [
        {
          "output_type": "execute_result",
          "data": {
            "text/plain": [
              "[<matplotlib.lines.Line2D at 0x7f13c9625630>]"
            ]
          },
          "metadata": {
            "tags": []
          },
          "execution_count": 27
        },
        {
          "output_type": "display_data",
          "data": {
            "image/png": "[encoded data removed]",
            "text/plain": [
              "<Figure size 432x288 with 1 Axes>"
            ]
          },
          "metadata": {
            "tags": [],
            "needs_background": "light"
          }
        }
      ]
    },
    {
      "cell_type": "code",
      "metadata": {
        "id": "4vs9Qhf2CyTa"
      },
      "source": [
        "from sklearn.metrics import r2_score"
      ],
      "execution_count": 28,
      "outputs": []
    },
    {
      "cell_type": "code",
      "metadata": {
        "colab": {
          "base_uri": "https://localhost:8080/"
        },
        "id": "HGmhfmAjCyTa",
        "outputId": "4d2698ef-d464-417d-d507-599e99cfa72d"
      },
      "source": [
        "r2_score(y, lr.predict(X))"
      ],
      "execution_count": 29,
      "outputs": [
        {
          "output_type": "execute_result",
          "data": {
            "text/plain": [
              "0.9342344891672815"
            ]
          },
          "metadata": {
            "tags": []
          },
          "execution_count": 29
        }
      ]
    },
    {
      "cell_type": "markdown",
      "metadata": {
        "id": "I7g78BarCyTb"
      },
      "source": [
        "## The impact of samples\n",
        "\n",
        "We'll sample 20 points from the data set. We do this by sampling 20 indices, index into X and y, and then fit on the sample"
      ]
    },
    {
      "cell_type": "code",
      "metadata": {
        "id": "1ajLCrOWCyTb"
      },
      "source": [
        "sample_indices = np.random.choice(range(100), size=20, replace=False)\n",
        "sample_indices"
      ],
      "execution_count": null,
      "outputs": []
    },
    {
      "cell_type": "markdown",
      "metadata": {
        "id": "4qjIde5_CyTb"
      },
      "source": [
        "We create a sample by using the sample indices:"
      ]
    },
    {
      "cell_type": "code",
      "metadata": {
        "id": "A3fp5XwTCyTc"
      },
      "source": [
        "Xsample = X[sample_indices]\n",
        "ysample = y[sample_indices]"
      ],
      "execution_count": null,
      "outputs": []
    },
    {
      "cell_type": "markdown",
      "metadata": {
        "id": "lE3G5P4iCyTc"
      },
      "source": [
        "**Find the $R^2$ score of a fit to this sample, on this sample**"
      ]
    },
    {
      "cell_type": "code",
      "metadata": {
        "id": "BJ8M1Da1CyTc"
      },
      "source": [
        "# your code here\n"
      ],
      "execution_count": null,
      "outputs": []
    },
    {
      "cell_type": "markdown",
      "metadata": {
        "id": "JKo99KksCyTd"
      },
      "source": [
        "Lets check the sensitivity of our prediction to our sample. We'll do this 1000 times..that is we'll sample a new set of 20 points, "
      ]
    },
    {
      "cell_type": "code",
      "metadata": {
        "id": "SyD960zACyTe"
      },
      "source": [
        "scores = []\n",
        "models=[]\n",
        "for i in range(1000):\n",
        "    sample_indices = np.random.choice(range(100), size=20, replace=False)\n",
        "    Xsample = X[sample_indices]\n",
        "    ysample = y[sample_indices]\n",
        "    m = LinearRegression().fit(Xsample, ysample)\n",
        "    models.append(m)\n",
        "    scores.append(m.score(Xsample, ysample))\n",
        "plt.hist(scores,  bins=np.linspace(0.7, 1, 30))\n",
        "plt.xlim(0.7,1)"
      ],
      "execution_count": null,
      "outputs": []
    },
    {
      "cell_type": "markdown",
      "metadata": {
        "id": "vAqEUbtvCyTe"
      },
      "source": [
        "Let us check the slope and intercepts fitted on the different samples"
      ]
    },
    {
      "cell_type": "code",
      "metadata": {
        "id": "xMn-JQLkCyTe"
      },
      "source": [
        "plt.hist([models[i].coef_[0] for i in range(1000)], bins=10);\n",
        "plt.xlim([60, 100])"
      ],
      "execution_count": null,
      "outputs": []
    },
    {
      "cell_type": "code",
      "metadata": {
        "id": "teZnVAyICyTf"
      },
      "source": [
        "plt.hist([models[i].intercept_ for i in range(100)], bins=10);\n",
        "plt.xlim([-15, 10])"
      ],
      "execution_count": null,
      "outputs": []
    },
    {
      "cell_type": "markdown",
      "metadata": {
        "id": "8D5cIb07CyTf"
      },
      "source": [
        "## The impact of noise\n",
        "\n",
        "**Redo this with a higher amount of noise (about 400)**. For this you will need to create a new dataset. Plot the data. Plot the histogram of the R^2 as well as that of the coefficients."
      ]
    },
    {
      "cell_type": "code",
      "metadata": {
        "id": "YrW_wcIkCyTf"
      },
      "source": [
        "# your code here\n"
      ],
      "execution_count": null,
      "outputs": []
    },
    {
      "cell_type": "code",
      "metadata": {
        "id": "rq-nZKfDCyTg"
      },
      "source": [
        "# your code here\n"
      ],
      "execution_count": null,
      "outputs": []
    },
    {
      "cell_type": "code",
      "metadata": {
        "id": "UNcQhOJnCyTg"
      },
      "source": [
        "# your code here\n"
      ],
      "execution_count": null,
      "outputs": []
    },
    {
      "cell_type": "code",
      "metadata": {
        "id": "3fr4EJraCyTg"
      },
      "source": [
        "# your code here\n"
      ],
      "execution_count": null,
      "outputs": []
    },
    {
      "cell_type": "markdown",
      "metadata": {
        "id": "0IkDhVVnCyTg"
      },
      "source": [
        "## Impact of sample size\n",
        "\n",
        "Going back to the original dataset with less noise, now fetch smaller size samples  (10 data points each) and repeat"
      ]
    },
    {
      "cell_type": "code",
      "metadata": {
        "id": "vSHJRIJkCyTh"
      },
      "source": [
        "# your code here\n"
      ],
      "execution_count": null,
      "outputs": []
    },
    {
      "cell_type": "code",
      "metadata": {
        "id": "kO7MH8z3CyTh"
      },
      "source": [
        "# your code here\n"
      ],
      "execution_count": null,
      "outputs": []
    },
    {
      "cell_type": "code",
      "metadata": {
        "id": "Sn0zwqBuCyTh"
      },
      "source": [
        "plt.hist([models[i].intercept_ for i in range(100)], bins=10);\n",
        "plt.xlim([-15, 10])"
      ],
      "execution_count": null,
      "outputs": []
    },
    {
      "cell_type": "markdown",
      "metadata": {
        "id": "BeErYPb9CyTi"
      },
      "source": [
        "## Testing and training\n",
        "\n",
        "A grid like the one we created might contain some of the points we fit this model on. This is called **Data Contamination** and is a big no-no. If we want an independent estimate of the error, we should hold out some points in a test set. Then we want to guarantee that there is no overlap between the initial sample, or **training set**, and the test set."
      ]
    },
    {
      "cell_type": "code",
      "metadata": {
        "id": "vxJH20BmCyTi"
      },
      "source": [
        "from sklearn.model_selection import train_test_split"
      ],
      "execution_count": 38,
      "outputs": []
    },
    {
      "cell_type": "code",
      "metadata": {
        "id": "ZBRKTAcGCyTi"
      },
      "source": [
        "Xtrain, Xtest, ytrain, ytest = train_test_split(X, y, test_size=0.2, random_state=2017)"
      ],
      "execution_count": 37,
      "outputs": []
    },
    {
      "cell_type": "markdown",
      "metadata": {
        "id": "ASm-rgK_CyTi"
      },
      "source": [
        "Now lets fit the model on the training set and evaluate it both on the training set and the test set. We print the R^2"
      ]
    },
    {
      "cell_type": "code",
      "metadata": {
        "id": "1IqnGc1iCyTi"
      },
      "source": [
        "lr2 = LinearRegression().fit(Xtrain, ytrain)\n",
        "r2_test = r2_score(ytest, lr.predict(Xtest))\n",
        "r2_train = r2_score(ytrain, lr.predict(Xtrain))"
      ],
      "execution_count": 39,
      "outputs": []
    },
    {
      "cell_type": "code",
      "metadata": {
        "colab": {
          "base_uri": "https://localhost:8080/",
          "height": 35
        },
        "id": "x_tnvbNfCyTj",
        "outputId": "a1009023-e048-465c-e4b8-c10a088d0845"
      },
      "source": [
        "\"Train R2 is {}, while test R^2 is {}\".format(r2_train, r2_test)"
      ],
      "execution_count": 40,
      "outputs": [
        {
          "output_type": "execute_result",
          "data": {
            "application/vnd.google.colaboratory.intrinsic+json": {
              "type": "string"
            },
            "text/plain": [
              "'Train R2 is 0.9302930567263316, while test R^2 is 0.9446796445954511'"
            ]
          },
          "metadata": {
            "tags": []
          },
          "execution_count": 40
        }
      ]
    },
    {
      "cell_type": "markdown",
      "metadata": {
        "id": "_bRVGa0ACyTj"
      },
      "source": [
        "## Using Keras to fit the model\n",
        "\n",
        "We'll use SGD (we could have used plain and simple gradient descent, why?) and Keras's Sequential API"
      ]
    },
    {
      "cell_type": "code",
      "metadata": {
        "colab": {
          "base_uri": "https://localhost:8080/"
        },
        "id": "CQsuCh9hCyTj",
        "outputId": "10940b69-b791-4176-b3fc-a115f41cc8f5"
      },
      "source": [
        "from keras.models import Sequential\n",
        "from keras.layers import Dense\n",
        "lr3 = Sequential()\n",
        "lr3.add(Dense(1, input_shape=(1,)))\n",
        "lr3.compile(optimizer='sgd', loss='mean_squared_error',  metrics=['mse','accuracy'])\n",
        "lr3.summary()"
      ],
      "execution_count": 41,
      "outputs": [
        {
          "output_type": "stream",
          "text": [
            "Model: \"sequential_2\"\n",
            "_________________________________________________________________\n",
            "Layer (type)                 Output Shape              Param #   \n",
            "=================================================================\n",
            "dense_2 (Dense)              (None, 1)                 2         \n",
            "=================================================================\n",
            "Total params: 2\n",
            "Trainable params: 2\n",
            "Non-trainable params: 0\n",
            "_________________________________________________________________\n"
          ],
          "name": "stdout"
        }
      ]
    },
    {
      "cell_type": "code",
      "metadata": {
        "colab": {
          "base_uri": "https://localhost:8080/"
        },
        "id": "2miJgYFLCyTk",
        "outputId": "d2cb7cb3-d709-43b8-878b-1f8228649473"
      },
      "source": [
        "history = lr3.fit(Xtrain, ytrain, epochs=100, batch_size=20)"
      ],
      "execution_count": 42,
      "outputs": [
        {
          "output_type": "stream",
          "text": [
            "Epoch 1/100\n",
            "4/4 [==============================] - 1s 3ms/step - loss: 5126.7095 - mse: 5126.7091 - accuracy: 0.0000e+00\n",
            "Epoch 2/100\n",
            "4/4 [==============================] - 0s 2ms/step - loss: 5464.9269 - mse: 5464.9269 - accuracy: 0.0000e+00\n",
            "Epoch 3/100\n",
            "4/4 [==============================] - 0s 2ms/step - loss: 4275.4678 - mse: 4275.4678 - accuracy: 0.0000e+00\n",
            "Epoch 4/100\n",
            "4/4 [==============================] - 0s 3ms/step - loss: 3501.0783 - mse: 3501.0783 - accuracy: 0.0000e+00\n",
            "Epoch 5/100\n",
            "4/4 [==============================] - 0s 2ms/step - loss: 3198.5467 - mse: 3198.5467 - accuracy: 0.0000e+00\n",
            "Epoch 6/100\n",
            "4/4 [==============================] - 0s 2ms/step - loss: 2799.1540 - mse: 2799.1540 - accuracy: 0.0000e+00\n",
            "Epoch 7/100\n",
            "4/4 [==============================] - 0s 2ms/step - loss: 2751.7571 - mse: 2751.7571 - accuracy: 0.0000e+00\n",
            "Epoch 8/100\n",
            "4/4 [==============================] - 0s 2ms/step - loss: 2811.5050 - mse: 2811.5050 - accuracy: 0.0000e+00\n",
            "Epoch 9/100\n",
            "4/4 [==============================] - 0s 2ms/step - loss: 2596.7583 - mse: 2596.7583 - accuracy: 0.0000e+00\n",
            "Epoch 10/100\n",
            "4/4 [==============================] - 0s 2ms/step - loss: 1813.5985 - mse: 1813.5985 - accuracy: 0.0000e+00\n",
            "Epoch 11/100\n",
            "4/4 [==============================] - 0s 2ms/step - loss: 2053.0193 - mse: 2053.0193 - accuracy: 0.0000e+00\n",
            "Epoch 12/100\n",
            "4/4 [==============================] - 0s 3ms/step - loss: 1598.9602 - mse: 1598.9602 - accuracy: 0.0000e+00\n",
            "Epoch 13/100\n",
            "4/4 [==============================] - 0s 2ms/step - loss: 1648.2922 - mse: 1648.2922 - accuracy: 0.0000e+00\n",
            "Epoch 14/100\n",
            "4/4 [==============================] - 0s 3ms/step - loss: 1319.4741 - mse: 1319.4741 - accuracy: 0.0000e+00\n",
            "Epoch 15/100\n",
            "4/4 [==============================] - 0s 2ms/step - loss: 1320.6552 - mse: 1320.6552 - accuracy: 0.0000e+00\n",
            "Epoch 16/100\n",
            "4/4 [==============================] - 0s 3ms/step - loss: 1161.5149 - mse: 1161.5150 - accuracy: 0.0000e+00\n",
            "Epoch 17/100\n",
            "4/4 [==============================] - 0s 2ms/step - loss: 1153.1828 - mse: 1153.1828 - accuracy: 0.0000e+00\n",
            "Epoch 18/100\n",
            "4/4 [==============================] - 0s 3ms/step - loss: 913.8080 - mse: 913.8080 - accuracy: 0.0000e+00\n",
            "Epoch 19/100\n",
            "4/4 [==============================] - 0s 2ms/step - loss: 950.7686 - mse: 950.7686 - accuracy: 0.0000e+00\n",
            "Epoch 20/100\n",
            "4/4 [==============================] - 0s 2ms/step - loss: 992.0669 - mse: 992.0669 - accuracy: 0.0000e+00\n",
            "Epoch 21/100\n",
            "4/4 [==============================] - 0s 2ms/step - loss: 850.8051 - mse: 850.8051 - accuracy: 0.0000e+00\n",
            "Epoch 22/100\n",
            "4/4 [==============================] - 0s 2ms/step - loss: 706.6144 - mse: 706.6144 - accuracy: 0.0000e+00\n",
            "Epoch 23/100\n",
            "4/4 [==============================] - 0s 3ms/step - loss: 692.1947 - mse: 692.1947 - accuracy: 0.0000e+00\n",
            "Epoch 24/100\n",
            "4/4 [==============================] - 0s 2ms/step - loss: 660.0520 - mse: 660.0520 - accuracy: 0.0000e+00\n",
            "Epoch 25/100\n",
            "4/4 [==============================] - 0s 2ms/step - loss: 656.7215 - mse: 656.7215 - accuracy: 0.0000e+00\n",
            "Epoch 26/100\n",
            "4/4 [==============================] - 0s 2ms/step - loss: 689.2057 - mse: 689.2057 - accuracy: 0.0000e+00\n",
            "Epoch 27/100\n",
            "4/4 [==============================] - 0s 3ms/step - loss: 581.5396 - mse: 581.5396 - accuracy: 0.0000e+00\n",
            "Epoch 28/100\n",
            "4/4 [==============================] - 0s 2ms/step - loss: 651.5691 - mse: 651.5691 - accuracy: 0.0000e+00\n",
            "Epoch 29/100\n",
            "4/4 [==============================] - 0s 2ms/step - loss: 545.7522 - mse: 545.7522 - accuracy: 0.0000e+00\n",
            "Epoch 30/100\n",
            "4/4 [==============================] - 0s 2ms/step - loss: 536.9386 - mse: 536.9386 - accuracy: 0.0000e+00\n",
            "Epoch 31/100\n",
            "4/4 [==============================] - 0s 2ms/step - loss: 496.1414 - mse: 496.1414 - accuracy: 0.0000e+00\n",
            "Epoch 32/100\n",
            "4/4 [==============================] - 0s 3ms/step - loss: 499.3517 - mse: 499.3517 - accuracy: 0.0000e+00\n",
            "Epoch 33/100\n",
            "4/4 [==============================] - 0s 2ms/step - loss: 449.8547 - mse: 449.8547 - accuracy: 0.0000e+00\n",
            "Epoch 34/100\n",
            "4/4 [==============================] - 0s 2ms/step - loss: 444.4487 - mse: 444.4487 - accuracy: 0.0000e+00\n",
            "Epoch 35/100\n",
            "4/4 [==============================] - 0s 2ms/step - loss: 474.4374 - mse: 474.4374 - accuracy: 0.0000e+00\n",
            "Epoch 36/100\n",
            "4/4 [==============================] - 0s 2ms/step - loss: 443.4726 - mse: 443.4726 - accuracy: 0.0000e+00\n",
            "Epoch 37/100\n",
            "4/4 [==============================] - 0s 4ms/step - loss: 448.3150 - mse: 448.3150 - accuracy: 0.0000e+00\n",
            "Epoch 38/100\n",
            "4/4 [==============================] - 0s 2ms/step - loss: 419.3717 - mse: 419.3717 - accuracy: 0.0000e+00\n",
            "Epoch 39/100\n",
            "4/4 [==============================] - 0s 3ms/step - loss: 447.7912 - mse: 447.7912 - accuracy: 0.0000e+00\n",
            "Epoch 40/100\n",
            "4/4 [==============================] - 0s 3ms/step - loss: 412.0864 - mse: 412.0864 - accuracy: 0.0000e+00\n",
            "Epoch 41/100\n",
            "4/4 [==============================] - 0s 3ms/step - loss: 416.9516 - mse: 416.9516 - accuracy: 0.0000e+00\n",
            "Epoch 42/100\n",
            "4/4 [==============================] - 0s 3ms/step - loss: 395.7942 - mse: 395.7942 - accuracy: 0.0000e+00\n",
            "Epoch 43/100\n",
            "4/4 [==============================] - 0s 5ms/step - loss: 382.0446 - mse: 382.0446 - accuracy: 0.0000e+00\n",
            "Epoch 44/100\n",
            "4/4 [==============================] - 0s 3ms/step - loss: 314.5484 - mse: 314.5484 - accuracy: 0.0000e+00\n",
            "Epoch 45/100\n",
            "4/4 [==============================] - 0s 3ms/step - loss: 459.7693 - mse: 459.7693 - accuracy: 0.0000e+00\n",
            "Epoch 46/100\n",
            "4/4 [==============================] - 0s 3ms/step - loss: 357.1660 - mse: 357.1660 - accuracy: 0.0000e+00\n",
            "Epoch 47/100\n",
            "4/4 [==============================] - 0s 2ms/step - loss: 390.4055 - mse: 390.4055 - accuracy: 0.0000e+00\n",
            "Epoch 48/100\n",
            "4/4 [==============================] - 0s 3ms/step - loss: 400.8486 - mse: 400.8486 - accuracy: 0.0000e+00\n",
            "Epoch 49/100\n",
            "4/4 [==============================] - 0s 2ms/step - loss: 465.9844 - mse: 465.9844 - accuracy: 0.0000e+00\n",
            "Epoch 50/100\n",
            "4/4 [==============================] - 0s 3ms/step - loss: 419.2685 - mse: 419.2685 - accuracy: 0.0000e+00\n",
            "Epoch 51/100\n",
            "4/4 [==============================] - 0s 3ms/step - loss: 424.1311 - mse: 424.1311 - accuracy: 0.0000e+00\n",
            "Epoch 52/100\n",
            "4/4 [==============================] - 0s 4ms/step - loss: 385.0217 - mse: 385.0217 - accuracy: 0.0000e+00\n",
            "Epoch 53/100\n",
            "4/4 [==============================] - 0s 3ms/step - loss: 385.8305 - mse: 385.8305 - accuracy: 0.0000e+00\n",
            "Epoch 54/100\n",
            "4/4 [==============================] - 0s 2ms/step - loss: 385.3538 - mse: 385.3538 - accuracy: 0.0000e+00\n",
            "Epoch 55/100\n",
            "4/4 [==============================] - 0s 2ms/step - loss: 421.9465 - mse: 421.9465 - accuracy: 0.0000e+00\n",
            "Epoch 56/100\n",
            "4/4 [==============================] - 0s 2ms/step - loss: 390.4270 - mse: 390.4270 - accuracy: 0.0000e+00\n",
            "Epoch 57/100\n",
            "4/4 [==============================] - 0s 3ms/step - loss: 375.7579 - mse: 375.7579 - accuracy: 0.0000e+00\n",
            "Epoch 58/100\n",
            "4/4 [==============================] - 0s 3ms/step - loss: 385.5267 - mse: 385.5267 - accuracy: 0.0000e+00\n",
            "Epoch 59/100\n",
            "4/4 [==============================] - 0s 2ms/step - loss: 335.9316 - mse: 335.9316 - accuracy: 0.0000e+00\n",
            "Epoch 60/100\n",
            "4/4 [==============================] - 0s 3ms/step - loss: 413.8314 - mse: 413.8314 - accuracy: 0.0000e+00\n",
            "Epoch 61/100\n",
            "4/4 [==============================] - 0s 2ms/step - loss: 393.6769 - mse: 393.6769 - accuracy: 0.0000e+00\n",
            "Epoch 62/100\n",
            "4/4 [==============================] - 0s 2ms/step - loss: 408.1836 - mse: 408.1836 - accuracy: 0.0000e+00\n",
            "Epoch 63/100\n",
            "4/4 [==============================] - 0s 2ms/step - loss: 422.6117 - mse: 422.6117 - accuracy: 0.0000e+00\n",
            "Epoch 64/100\n",
            "4/4 [==============================] - 0s 3ms/step - loss: 415.3599 - mse: 415.3599 - accuracy: 0.0000e+00\n",
            "Epoch 65/100\n",
            "4/4 [==============================] - 0s 4ms/step - loss: 343.6972 - mse: 343.6972 - accuracy: 0.0000e+00\n",
            "Epoch 66/100\n",
            "4/4 [==============================] - 0s 4ms/step - loss: 379.6463 - mse: 379.6463 - accuracy: 0.0000e+00\n",
            "Epoch 67/100\n",
            "4/4 [==============================] - 0s 3ms/step - loss: 347.2914 - mse: 347.2914 - accuracy: 0.0000e+00\n",
            "Epoch 68/100\n",
            "4/4 [==============================] - 0s 2ms/step - loss: 444.6266 - mse: 444.6266 - accuracy: 0.0000e+00\n",
            "Epoch 69/100\n",
            "4/4 [==============================] - 0s 2ms/step - loss: 431.0908 - mse: 431.0909 - accuracy: 0.0000e+00\n",
            "Epoch 70/100\n",
            "4/4 [==============================] - 0s 4ms/step - loss: 361.7013 - mse: 361.7013 - accuracy: 0.0000e+00\n",
            "Epoch 71/100\n",
            "4/4 [==============================] - 0s 2ms/step - loss: 384.1546 - mse: 384.1546 - accuracy: 0.0000e+00\n",
            "Epoch 72/100\n",
            "4/4 [==============================] - 0s 3ms/step - loss: 378.5040 - mse: 378.5040 - accuracy: 0.0000e+00\n",
            "Epoch 73/100\n",
            "4/4 [==============================] - 0s 2ms/step - loss: 346.8738 - mse: 346.8738 - accuracy: 0.0000e+00\n",
            "Epoch 74/100\n",
            "4/4 [==============================] - 0s 2ms/step - loss: 424.7554 - mse: 424.7553 - accuracy: 0.0000e+00\n",
            "Epoch 75/100\n",
            "4/4 [==============================] - 0s 2ms/step - loss: 321.3610 - mse: 321.3610 - accuracy: 0.0000e+00\n",
            "Epoch 76/100\n",
            "4/4 [==============================] - 0s 3ms/step - loss: 313.0542 - mse: 313.0542 - accuracy: 0.0000e+00\n",
            "Epoch 77/100\n",
            "4/4 [==============================] - 0s 4ms/step - loss: 362.7888 - mse: 362.7888 - accuracy: 0.0000e+00\n",
            "Epoch 78/100\n",
            "4/4 [==============================] - 0s 2ms/step - loss: 332.1641 - mse: 332.1641 - accuracy: 0.0000e+00\n",
            "Epoch 79/100\n",
            "4/4 [==============================] - 0s 4ms/step - loss: 358.3540 - mse: 358.3540 - accuracy: 0.0000e+00\n",
            "Epoch 80/100\n",
            "4/4 [==============================] - 0s 3ms/step - loss: 350.6972 - mse: 350.6972 - accuracy: 0.0000e+00\n",
            "Epoch 81/100\n",
            "4/4 [==============================] - 0s 2ms/step - loss: 378.5097 - mse: 378.5097 - accuracy: 0.0000e+00\n",
            "Epoch 82/100\n",
            "4/4 [==============================] - 0s 2ms/step - loss: 354.0530 - mse: 354.0530 - accuracy: 0.0000e+00\n",
            "Epoch 83/100\n",
            "4/4 [==============================] - 0s 2ms/step - loss: 350.7854 - mse: 350.7854 - accuracy: 0.0000e+00\n",
            "Epoch 84/100\n",
            "4/4 [==============================] - 0s 2ms/step - loss: 361.2413 - mse: 361.2413 - accuracy: 0.0000e+00\n",
            "Epoch 85/100\n",
            "4/4 [==============================] - 0s 2ms/step - loss: 386.9363 - mse: 386.9363 - accuracy: 0.0000e+00\n",
            "Epoch 86/100\n",
            "4/4 [==============================] - 0s 2ms/step - loss: 357.7761 - mse: 357.7761 - accuracy: 0.0000e+00\n",
            "Epoch 87/100\n",
            "4/4 [==============================] - 0s 2ms/step - loss: 336.9108 - mse: 336.9108 - accuracy: 0.0000e+00\n",
            "Epoch 88/100\n",
            "4/4 [==============================] - 0s 2ms/step - loss: 385.6403 - mse: 385.6403 - accuracy: 0.0000e+00\n",
            "Epoch 89/100\n",
            "4/4 [==============================] - 0s 2ms/step - loss: 390.4742 - mse: 390.4742 - accuracy: 0.0000e+00\n",
            "Epoch 90/100\n",
            "4/4 [==============================] - 0s 2ms/step - loss: 370.6566 - mse: 370.6566 - accuracy: 0.0000e+00\n",
            "Epoch 91/100\n",
            "4/4 [==============================] - 0s 2ms/step - loss: 398.6156 - mse: 398.6156 - accuracy: 0.0000e+00\n",
            "Epoch 92/100\n",
            "4/4 [==============================] - 0s 2ms/step - loss: 336.9134 - mse: 336.9134 - accuracy: 0.0000e+00\n",
            "Epoch 93/100\n",
            "4/4 [==============================] - 0s 2ms/step - loss: 396.9792 - mse: 396.9792 - accuracy: 0.0000e+00\n",
            "Epoch 94/100\n",
            "4/4 [==============================] - 0s 2ms/step - loss: 388.4210 - mse: 388.4210 - accuracy: 0.0000e+00\n",
            "Epoch 95/100\n",
            "4/4 [==============================] - 0s 2ms/step - loss: 393.1267 - mse: 393.1267 - accuracy: 0.0000e+00\n",
            "Epoch 96/100\n",
            "4/4 [==============================] - 0s 2ms/step - loss: 418.5718 - mse: 418.5718 - accuracy: 0.0000e+00\n",
            "Epoch 97/100\n",
            "4/4 [==============================] - 0s 2ms/step - loss: 405.1035 - mse: 405.1035 - accuracy: 0.0000e+00\n",
            "Epoch 98/100\n",
            "4/4 [==============================] - 0s 2ms/step - loss: 407.2110 - mse: 407.2110 - accuracy: 0.0000e+00\n",
            "Epoch 99/100\n",
            "4/4 [==============================] - 0s 4ms/step - loss: 355.4239 - mse: 355.4239 - accuracy: 0.0000e+00\n",
            "Epoch 100/100\n",
            "4/4 [==============================] - 0s 5ms/step - loss: 393.6751 - mse: 393.6751 - accuracy: 0.0000e+00\n"
          ],
          "name": "stdout"
        }
      ]
    },
    {
      "cell_type": "code",
      "metadata": {
        "colab": {
          "base_uri": "https://localhost:8080/",
          "height": 282
        },
        "id": "tAhz39NZCyTk",
        "outputId": "ff1ab975-b8a0-4dda-d146-0a7921cc3ce1"
      },
      "source": [
        "plt.plot(history.history['loss'])"
      ],
      "execution_count": 43,
      "outputs": [
        {
          "output_type": "execute_result",
          "data": {
            "text/plain": [
              "[<matplotlib.lines.Line2D at 0x7f13914953c8>]"
            ]
          },
          "metadata": {
            "tags": []
          },
          "execution_count": 43
        },
        {
          "output_type": "display_data",
          "data": {
            "image/png": "[encoded data removed]",
            "text/plain": [
              "<Figure size 432x288 with 1 Axes>"
            ]
          },
          "metadata": {
            "tags": [],
            "needs_background": "light"
          }
        }
      ]
    },
    {
      "cell_type": "code",
      "metadata": {
        "colab": {
          "base_uri": "https://localhost:8080/"
        },
        "id": "qId7nfpLCyTm",
        "outputId": "3b721a68-236a-47d8-eada-aae2c3cb42fd"
      },
      "source": [
        "lr3.get_weights()"
      ],
      "execution_count": 44,
      "outputs": [
        {
          "output_type": "execute_result",
          "data": {
            "text/plain": [
              "[array([[82.383606]], dtype=float32), array([-3.3671896], dtype=float32)]"
            ]
          },
          "metadata": {
            "tags": []
          },
          "execution_count": 44
        }
      ]
    }
  ]
}